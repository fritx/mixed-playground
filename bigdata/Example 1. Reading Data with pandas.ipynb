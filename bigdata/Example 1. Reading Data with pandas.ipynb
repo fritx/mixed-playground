{
 "cells": [
  {
   "cell_type": "code",
   "execution_count": 1,
   "id": "13cd43cd-477a-4098-a968-3cd6a054f974",
   "metadata": {},
   "outputs": [],
   "source": [
    "# 10 examples of using Python for big data analysis\n",
    "# https://www.openlayer.com/blog/post/10-examples-of-using-python-for-big-data-analysis\n",
    "\n",
    "!python -V\n",
    "!python2 -V\n",
    "!python3 -V\n",
    "!pip -V\n",
    "!pip2 -V\n",
    "!pip3 -V\n",
    "\n",
    "!pip install pipreqs\n",
    "!pipreqs --force --scan-notebooks\n",
    "\n",
    "!pip install -r requirements.txt"
   ]
  },
  {
   "cell_type": "code",
   "execution_count": 2,
   "id": "3a6d99aa-6451-4e30-bb25-94b6c5949d87",
   "metadata": {},
   "outputs": [
    {
     "name": "stdout",
     "output_type": "stream",
     "text": [
      "    Name   Gender   Age  Major\n",
      "0  Fritz     Male    18     SE\n",
      "1  Jayin     Male    17     CS\n",
      "2  Jason     Male    18     SE\n",
      "3  Hombe   Female    19     SE\n"
     ]
    }
   ],
   "source": [
    "# Example 1: Reading Data with pandas\n",
    "\n",
    "# import pandas library abbreviated as pd\n",
    "import pandas as pd\n",
    "\n",
    "# create variable to hold dataframe called df and read the csv file into it\n",
    "df = pd.read_csv('students.csv')\n",
    "\n",
    "# print result to the screen\n",
    "print(df)"
   ]
  },
  {
   "cell_type": "code",
   "execution_count": 3,
   "id": "b3238387-cb5b-494a-8527-17f92891dc98",
   "metadata": {},
   "outputs": [
    {
     "name": "stdout",
     "output_type": "stream",
     "text": [
      "{'success': True, 'timestamp': 1710252004, 'source': 'USD', 'quotes': {'USDAED': 3.672898, 'USDAFN': 70.919781, 'USDALL': 94.839252, 'USDAMD': 402.691928, 'USDANG': 1.801781, 'USDAOA': 835.497916, 'USDARS': 848.598305, 'USDAUD': 1.51607, 'USDAWG': 1.8, 'USDAZN': 1.697031, 'USDBAM': 1.788356, 'USDBBD': 2.018599, 'USDBDT': 109.724819, 'USDBGN': 1.789135, 'USDBHD': 0.376924, 'USDBIF': 2858.788729, 'USDBMD': 1, 'USDBND': 1.330511, 'USDBOB': 6.908123, 'USDBRL': 4.982201, 'USDBSD': 0.99979, 'USDBTC': 1.3829226e-05, 'USDBTN': 82.757347, 'USDBWP': 13.528341, 'USDBYN': 3.271278, 'USDBYR': 19600, 'USDBZD': 2.015197, 'USDCAD': 1.350775, 'USDCDF': 2774.999722, 'USDCHF': 0.878865, 'USDCLF': 0.034928, 'USDCLP': 963.659865, 'USDCNY': 7.180101, 'USDCOP': 3912.66, 'USDCRC': 511.409095, 'USDCUC': 1, 'USDCUP': 26.5, 'USDCVE': 100.824776, 'USDCZK': 23.177018, 'USDDJF': 178.029333, 'USDDKK': 6.83454, 'USDDOP': 59.087085, 'USDDZD': 134.43982, 'USDEGP': 48.800995, 'USDERN': 15, 'USDETB': 56.759811, 'USDEUR': 0.916545, 'USDFJD': 2.233699, 'USDFKP': 0.780874, 'USDGBP': 0.783621, 'USDGEL': 2.655007, 'USDGGP': 0.780874, 'USDGHS': 12.816597, 'USDGIP': 0.780874, 'USDGMD': 67.975027, 'USDGNF': 8593.282098, 'USDGTQ': 7.806957, 'USDGYD': 209.379515, 'USDHKD': 7.824045, 'USDHNL': 24.689337, 'USDHRK': 7.030095, 'USDHTG': 132.5494, 'USDHUF': 365.269497, 'USDIDR': 15541, 'USDILS': 3.658802, 'USDIMP': 0.780874, 'USDINR': 82.78575, 'USDIQD': 1309.657156, 'USDIRR': 42037.503533, 'USDISK': 136.290274, 'USDJEP': 0.780874, 'USDJMD': 154.758421, 'USDJOD': 0.708898, 'USDJPY': 147.807022, 'USDKES': 138.999819, 'USDKGS': 89.429631, 'USDKHR': 4048.864343, 'USDKMF': 450.549739, 'USDKPW': 900.038853, 'USDKRW': 1312.704966, 'USDKWD': 0.30718, 'USDKYD': 0.833181, 'USDKZT': 448.646499, 'USDLAK': 20865.184156, 'USDLBP': 89528.272558, 'USDLKR': 306.580289, 'USDLRD': 191.601156, 'USDLSL': 18.660187, 'USDLTL': 2.95274, 'USDLVL': 0.60489, 'USDLYD': 4.805099, 'USDMAD': 10.034381, 'USDMDL': 17.63103, 'USDMGA': 4499.652536, 'USDMKD': 56.461479, 'USDMMK': 2099.502579, 'USDMNT': 3396.67967, 'USDMOP': 8.056069, 'USDMRU': 39.864989, 'USDMUR': 45.790335, 'USDMVR': 15.404454, 'USDMWK': 1682.881334, 'USDMXN': 16.83527, 'USDMYR': 4.677502, 'USDMZN': 63.511096, 'USDNAD': 18.660252, 'USDNGN': 1575.19057, 'USDNIO': 36.794389, 'USDNOK': 10.519045, 'USDNPR': 132.413774, 'USDNZD': 1.627085, 'USDOMR': 0.384966, 'USDPAB': 0.999781, 'USDPEN': 3.689771, 'USDPGK': 3.818441, 'USDPHP': 55.411975, 'USDPKR': 279.082331, 'USDPLN': 3.930985, 'USDPYG': 7288.504444, 'USDQAR': 3.64075, 'USDRON': 4.552502, 'USDRSD': 107.427973, 'USDRUB': 90.690247, 'USDRWF': 1283.146191, 'USDSAR': 3.750567, 'USDSBD': 8.436197, 'USDSCR': 13.431106, 'USDSDG': 601.000124, 'USDSEK': 10.252935, 'USDSGD': 1.332865, 'USDSHP': 1.282199, 'USDSLE': 22.547226, 'USDSLL': 22547.225964, 'USDSOS': 571.503924, 'USDSRD': 35.361504, 'USDSTD': 20697.981008, 'USDSVC': 8.747811, 'USDSYP': 13001.855902, 'USDSZL': 18.563611, 'USDTHB': 35.737503, 'USDTJS': 10.942358, 'USDTMT': 3.5, 'USDTND': 3.096499, 'USDTOP': 2.355902, 'USDTRY': 32.049898, 'USDTTD': 6.792912, 'USDTWD': 31.470797, 'USDTZS': 2549.999938, 'USDUAH': 38.49402, 'USDUGX': 3888.883809, 'USDUYU': 38.769968, 'USDUZS': 12530.74623, 'USDVEF': 3614521.985153, 'USDVES': 36.155277, 'USDVND': 24652.5, 'USDVUV': 119.45342, 'USDWST': 2.735947, 'USDXAF': 599.792436, 'USDXAG': 0.041398, 'USDXAU': 0.000462, 'USDXCD': 2.70255, 'USDXDR': 0.74851, 'USDXOF': 599.797921, 'USDXPF': 109.601512, 'USDYER': 250.301901, 'USDZAR': 18.71858, 'USDZMK': 9001.204944, 'USDZMW': 24.618705, 'USDZWL': 321.999592}}\n",
      "\n",
      "                  0\n",
      "USDAED     3.672898\n",
      "USDAFN    70.919781\n",
      "USDALL    94.839252\n",
      "USDAMD   402.691928\n",
      "USDANG     1.801781\n",
      "...             ...\n",
      "USDYER   250.301901\n",
      "USDZAR    18.718580\n",
      "USDZMK  9001.204944\n",
      "USDZMW    24.618705\n",
      "USDZWL   321.999592\n",
      "\n",
      "[169 rows x 1 columns]\n",
      "\n",
      "      index            0\n",
      "0    USDAED     3.672898\n",
      "1    USDAFN    70.919781\n",
      "2    USDALL    94.839252\n",
      "3    USDAMD   402.691928\n",
      "4    USDANG     1.801781\n",
      "..      ...          ...\n",
      "164  USDYER   250.301901\n",
      "165  USDZAR    18.718580\n",
      "166  USDZMK  9001.204944\n",
      "167  USDZMW    24.618705\n",
      "168  USDZWL   321.999592\n",
      "\n",
      "[169 rows x 2 columns]\n",
      "\n",
      "    currency_pair         rate\n",
      "0          USDAED     3.672898\n",
      "1          USDAFN    70.919781\n",
      "2          USDALL    94.839252\n",
      "3          USDAMD   402.691928\n",
      "4          USDANG     1.801781\n",
      "..            ...          ...\n",
      "164        USDYER   250.301901\n",
      "165        USDZAR    18.718580\n",
      "166        USDZMK  9001.204944\n",
      "167        USDZMW    24.618705\n",
      "168        USDZWL   321.999592\n",
      "\n",
      "[169 rows x 2 columns]\n"
     ]
    }
   ],
   "source": [
    "import json\n",
    "import requests\n",
    "import pandas as pd\n",
    "from dotenv import dotenv_values\n",
    "\n",
    "my_secrets = dotenv_values(\".env\")\n",
    "\n",
    "# https://apilayer.com/\n",
    "# you will need to get a free API key from apilayer.com\n",
    "apikey = my_secrets[\"APILAYER_APIKEY\"]\n",
    "\n",
    "# the requests method is used to get the API url that returns JSON data\n",
    "# https://apilayer.com/marketplace/currency_data-api\n",
    "# r = requests.get(\"http://api.currencylayer.com/live?access_key=\" + apikey +\"\")\n",
    "r = requests.get(\"https://api.apilayer.com/currency_data/live\", headers={\"apikey\":apikey})\n",
    "\n",
    "# the json text data is extracted from the url\n",
    "jsondata = json.loads(r.text)\n",
    "print(jsondata)\n",
    "\n",
    "# the json text data is imported into a pandas dataframe, “quotes” refers to part of the json dictionary\n",
    "df = pd.DataFrame(jsondata[\"quotes\"], index=[0])\n",
    "\n",
    "# with this particular dataset the dataframe(df) needs to be transposed, re indexed, and new column names assigned. \n",
    "df1_transposed = df.T\n",
    "print(\"\")\n",
    "print(df1_transposed)\n",
    "\n",
    "df1_transposed = df1_transposed.reset_index()\n",
    "print(\"\")\n",
    "print(df1_transposed)\n",
    "\n",
    "df1_transposed.columns = ['currency_pair', 'rate']\n",
    "\n",
    "# view the data extracted from the API\n",
    "print(\"\")\n",
    "print(df1_transposed)"
   ]
  }
 ],
 "metadata": {
  "kernelspec": {
   "display_name": "myenv",
   "language": "python",
   "name": "myenv"
  },
  "language_info": {
   "codemirror_mode": {
    "name": "ipython",
    "version": 3
   },
   "file_extension": ".py",
   "mimetype": "text/x-python",
   "name": "python",
   "nbconvert_exporter": "python",
   "pygments_lexer": "ipython3",
   "version": "3.11.6"
  }
 },
 "nbformat": 4,
 "nbformat_minor": 5
}

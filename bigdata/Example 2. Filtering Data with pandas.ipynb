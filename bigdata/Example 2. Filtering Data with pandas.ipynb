{
 "cells": [
  {
   "cell_type": "code",
   "execution_count": 1,
   "id": "a5241d16-f0e6-4b1a-866b-18add520879e",
   "metadata": {},
   "outputs": [
    {
     "name": "stdout",
     "output_type": "stream",
     "text": [
      "    Name   Gender   Age  Major\n",
      "0  Fritz     Male    18     SE\n",
      "1  Jayin     Male    17     CS\n",
      "2  Jason     Male    18     SE\n",
      "3  Hombe   Female    19     SE\n",
      "\n",
      "Index(['Name', ' Gender', ' Age', ' Major'], dtype='object')\n",
      "\n",
      "    Name Gender  Age Major\n",
      "0  Fritz   Male   18    SE\n",
      "2  Jason   Male   18    SE\n"
     ]
    }
   ],
   "source": [
    "# Example 2: Filtering Data with pandas\n",
    "\n",
    "import pandas as pd\n",
    "\n",
    "df = pd.read_csv('students.csv')\n",
    "\n",
    "print(df)\n",
    "print(\"\")\n",
    "print(df.columns)  # 打印所有列名\n",
    "\n",
    "# like SQL:\n",
    "# SELECT *\n",
    "# FROM table\n",
    "# WHERE column_name = some_value\n",
    "# df.loc[df['column_name'] == some_value]\n",
    "# df.loc[df['Age'] == 18]\n",
    "# df.loc[df['age'] == 18]\n",
    "# df.loc[df.columns.str.lower().eq('age') & df.iloc[:, df.columns.str.lower().eq('age')].eq(18)]\n",
    "\n",
    "### Assited by 文心一言\n",
    "# 去除列名两侧的空白字符，并检查匹配的列是否存在\n",
    "# age_col = None\n",
    "# for col in df.columns:\n",
    "#     if col.strip().lower() == 'age':\n",
    "#         age_col = col\n",
    "#         break\n",
    "# # 如果找到了列，则筛选行\n",
    "# print(\"\")\n",
    "# if age_col is not None:\n",
    "#     print(df[df[age_col] == 18])\n",
    "# else:\n",
    "#     print(\"未找到名为'age'的列。\")\n",
    "\n",
    "### Assited by ChatGPT\n",
    "# 去除列名两侧的空白字符\n",
    "df.columns = df.columns.str.strip()\n",
    "\n",
    "# 如果找到了列，则筛选行\n",
    "print(\"\")\n",
    "if 'Age' in df.columns:\n",
    "    print(df[df['Age'] == 18])\n",
    "else:\n",
    "    print(\"未找到名为'age'的列。\")"
   ]
  },
  {
   "cell_type": "code",
   "execution_count": 2,
   "id": "8f0d5789-7ac5-4b73-8344-eb40a3805b40",
   "metadata": {},
   "outputs": [
    {
     "name": "stdout",
     "output_type": "stream",
     "text": [
      "    Name  Gender  Age Major\n",
      "0  Fritz    Male   18    SE\n",
      "1  Jayin    Male   17    CS\n",
      "2  Jason    Male   18    SE\n",
      "3  Hombe  Female   19    SE\n",
      "\n",
      "Index(['Name', 'Gender', 'Age', 'Major'], dtype='object')\n",
      "\n",
      "    Name Gender  Age Major\n",
      "0  Fritz   Male   18    SE\n",
      "2  Jason   Male   18    SE\n"
     ]
    }
   ],
   "source": [
    "# How to make separator in pandas read_csv more flexible wrt whitespace, for irregular separators?\n",
    "# https://stackoverflow.com/questions/15026698/how-to-make-separator-in-pandas-read-csv-more-flexible-wrt-whitespace-for-irreg\n",
    "# df = pd.read_csv('students.csv', delim_whitespace=True)\n",
    "df = pd.read_csv('students.csv', delimiter=r\"\\s*\\,\\s*\", engine=\"python\")\n",
    "\n",
    "print(df)\n",
    "print(\"\")\n",
    "print(df.columns)  # 打印所有列名\n",
    "\n",
    "print(\"\")\n",
    "print(df[df['Age'] == 18])"
   ]
  }
 ],
 "metadata": {
  "kernelspec": {
   "display_name": "Python 3 (ipykernel)",
   "language": "python",
   "name": "python3"
  },
  "language_info": {
   "codemirror_mode": {
    "name": "ipython",
    "version": 3
   },
   "file_extension": ".py",
   "mimetype": "text/x-python",
   "name": "python",
   "nbconvert_exporter": "python",
   "pygments_lexer": "ipython3",
   "version": "3.11.6"
  }
 },
 "nbformat": 4,
 "nbformat_minor": 5
}

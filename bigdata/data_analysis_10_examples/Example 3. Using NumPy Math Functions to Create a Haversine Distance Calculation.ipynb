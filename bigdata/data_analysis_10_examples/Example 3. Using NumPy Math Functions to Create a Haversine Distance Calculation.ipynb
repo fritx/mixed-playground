{
 "cells": [
  {
   "cell_type": "code",
   "execution_count": 1,
   "id": "59808123-a876-4d5b-858e-961379eb8976",
   "metadata": {},
   "outputs": [
    {
     "name": "stdout",
     "output_type": "stream",
     "text": [
      "342.54\n"
     ]
    }
   ],
   "source": [
    "# Example 3: Using NumPy Math Functions to Create a Haversine Distance Calculation\n",
    "\n",
    "import numpy as np\n",
    "\n",
    "def  haversine_distance(lat1, lon1, lat2, lon2):\n",
    "   r = 6371\n",
    "   phi1 = np.radians(lat1)\n",
    "   phi2 = np.radians(lat2)\n",
    "   delta_phi = np.radians(lat2 - lat1)\n",
    "   delta_lambda = np.radians(lon2 - lon1)\n",
    "   a = np.sin(delta_phi / 2)**2 + np.cos(phi1) * np.cos(phi2) *  np.sin(delta_lambda / 2)**2\n",
    "   res = r * (2 * np.arctan2(np.sqrt(a), np.sqrt(1 - a)))\n",
    "   return np.round(res, 2)\n",
    "\n",
    "LondonLongitude = -0.118092\n",
    "LondonLatitude = 51.509865\n",
    "ParisLongitude = 2.349014\n",
    "ParisLatitude = 48.864716\n",
    "\n",
    "print(haversine_distance(LondonLatitude, LondonLongitude, ParisLatitude, ParisLongitude))"
   ]
  }
 ],
 "metadata": {
  "kernelspec": {
   "display_name": "Python 3 (ipykernel)",
   "language": "python",
   "name": "python3"
  },
  "language_info": {
   "codemirror_mode": {
    "name": "ipython",
    "version": 3
   },
   "file_extension": ".py",
   "mimetype": "text/x-python",
   "name": "python",
   "nbconvert_exporter": "python",
   "pygments_lexer": "ipython3",
   "version": "3.11.6"
  }
 },
 "nbformat": 4,
 "nbformat_minor": 5
}

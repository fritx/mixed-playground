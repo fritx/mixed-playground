{
 "cells": [
  {
   "cell_type": "code",
   "execution_count": 1,
   "metadata": {},
   "outputs": [
    {
     "name": "stdout",
     "output_type": "stream",
     "text": [
      "[[1 7 0 5]\n",
      " [6 2 5 6]]\n"
     ]
    }
   ],
   "source": [
    "# Example 4: Resetting the Dimensions of Data Using NumPy\n",
    "\n",
    "# importing library\n",
    "import numpy as np\n",
    "\n",
    "# initializing list\n",
    "lst = [1, 7, 0, 5, 6, 2, 5, 6]\n",
    "\n",
    "# converting list to array\n",
    "arr = np.array(lst)\n",
    "\n",
    "# reshape array to 2 rows by four columns\n",
    "arr = np.reshape(arr,(2,4))\n",
    "\n",
    "print(arr)"
   ]
  }
 ],
 "metadata": {
  "kernelspec": {
   "display_name": "Python 3",
   "language": "python",
   "name": "python3"
  },
  "language_info": {
   "codemirror_mode": {
    "name": "ipython",
    "version": 3
   },
   "file_extension": ".py",
   "mimetype": "text/x-python",
   "name": "python",
   "nbconvert_exporter": "python",
   "pygments_lexer": "ipython3",
   "version": "3.11.6"
  }
 },
 "nbformat": 4,
 "nbformat_minor": 2
}

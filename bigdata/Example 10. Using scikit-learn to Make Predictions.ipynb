{
 "cells": [
  {
   "cell_type": "code",
   "execution_count": 1,
   "metadata": {},
   "outputs": [
    {
     "name": "stdout",
     "output_type": "stream",
     "text": [
      "Let's see how good machine learning is at separating bread and cake recipes\n",
      "\n",
      "col_0  0  1\n",
      "row_0      \n",
      "bread  3  1\n",
      "cake   0  4\n",
      "\n",
      "Most of the time it gets it right.\n",
      "\n",
      "Would you like to test?\n",
      "\n",
      "Find a cake or bread recipe and put in the gram measurements and egg count\n",
      "bread\n"
     ]
    }
   ],
   "source": [
    "# Example 10: Using scikit-learn to Make Predictions\n",
    "\n",
    "from sklearn.utils import Bunch\n",
    "import numpy as np\n",
    "import pandas as pd\n",
    "from sklearn.cluster import KMeans\n",
    "\n",
    "example_foods = Bunch(data = np.array([[335,265,4],[200,200,4],[225,225,4],[300,300,4],[4,300,0],[6,500,0],[0,750,0],[0,500,0]]),target = np.array(['cake','cake','cake','cake','bread','bread','bread','bread']))\n",
    "kmeans = KMeans(n_clusters=2) #with KMeans you get to pre specify the number of Clusters\n",
    "KModel = kmeans.fit(example_foods.data) #fit a model using the training data , in this case original example food data passed through\n",
    "\n",
    "crosstab = pd.crosstab(example_foods.target,KModel.labels_)\n",
    "print(\"Let's see how good machine learning is at separating bread and cake recipes\")\n",
    "print()\n",
    "print(crosstab)\n",
    "print()\n",
    "print('Most of the time it gets it right.\\n\\nWould you like to test?\\n\\nFind a cake or bread recipe and put in the gram measurements and egg count')\n",
    "sugar = int(input('How many grams of sugar?\\t'))\n",
    "flour = int(input('How many grams of flour?\\t'))\n",
    "eggs = int(input('How many eggs?\\t'))\n",
    "newvals = np.array([[sugar,flour,eggs]])\n",
    "predictions = kmeans.predict(newvals)\n",
    "predictions = str(predictions)\n",
    "predictions = predictions.replace(\"0\", \"cake\")\n",
    "predictions = predictions.replace(\"1\", \"bread\")\n",
    "predictions = predictions[1:-1]\n",
    "print(predictions)"
   ]
  }
 ],
 "metadata": {
  "kernelspec": {
   "display_name": "Python 3",
   "language": "python",
   "name": "python3"
  },
  "language_info": {
   "codemirror_mode": {
    "name": "ipython",
    "version": 3
   },
   "file_extension": ".py",
   "mimetype": "text/x-python",
   "name": "python",
   "nbconvert_exporter": "python",
   "pygments_lexer": "ipython3",
   "version": "3.11.6"
  }
 },
 "nbformat": 4,
 "nbformat_minor": 2
}
